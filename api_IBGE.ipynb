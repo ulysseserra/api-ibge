{
 "cells": [
  {
   "cell_type": "code",
   "execution_count": 9,
   "id": "6846410c",
   "metadata": {},
   "outputs": [],
   "source": [
    "import urllib3\n",
    "import json\n",
    "import matplotlib.pyplot as plt\n",
    "import numpy as np"
   ]
  },
  {
   "cell_type": "code",
   "execution_count": 10,
   "id": "9cebb36c",
   "metadata": {},
   "outputs": [
    {
     "name": "stdout",
     "output_type": "stream",
     "text": [
      "Response Status:  200\n"
     ]
    }
   ],
   "source": [
    "http = urllib3.PoolManager()\n",
    "urlPoralApiIBGE = \"https://servicodados.ibge.gov.br/api/v1/projecoes/populacao/BR\"\n",
    "response = http.request(\"GET\", urlPoralApiIBGE)\n",
    "print(\"Response Status: \", response.status)"
   ]
  },
  {
   "cell_type": "code",
   "execution_count": 11,
   "id": "429983c0",
   "metadata": {},
   "outputs": [
    {
     "data": {
      "text/plain": [
       "'{\"localidade\":\"0\",\"horario\":\"13/09/2022 19:47:09\",\"projecao\":{\"populacao\":215098655,\"periodoMedio\":{\"incrementoPopulacional\":21263,\"nascimento\":12000,\"obito\":45000}}}'"
      ]
     },
     "execution_count": 11,
     "metadata": {},
     "output_type": "execute_result"
    }
   ],
   "source": [
    "data_response = response.data.decode(\"utf-8\")\n",
    "data_response"
   ]
  },
  {
   "cell_type": "code",
   "execution_count": 12,
   "id": "599184e2",
   "metadata": {},
   "outputs": [
    {
     "data": {
      "text/plain": [
       "{'localidade': '0',\n",
       " 'horario': '13/09/2022 19:47:09',\n",
       " 'projecao': {'populacao': 215098655,\n",
       "  'periodoMedio': {'incrementoPopulacional': 21263,\n",
       "   'nascimento': 12000,\n",
       "   'obito': 45000}}}"
      ]
     },
     "execution_count": 12,
     "metadata": {},
     "output_type": "execute_result"
    }
   ],
   "source": [
    "data_json = json.loads(data_response)\n",
    "data_json"
   ]
  },
  {
   "cell_type": "code",
   "execution_count": 13,
   "id": "35900aaa",
   "metadata": {},
   "outputs": [
    {
     "name": "stdout",
     "output_type": "stream",
     "text": [
      "13/09/2022 19:47:09\n"
     ]
    }
   ],
   "source": [
    "print(data_json[\"horario\"])"
   ]
  },
  {
   "cell_type": "code",
   "execution_count": 14,
   "id": "2ff30da8",
   "metadata": {},
   "outputs": [
    {
     "name": "stdout",
     "output_type": "stream",
     "text": [
      "{'incrementoPopulacional': 21263, 'nascimento': 12000, 'obito': 45000}\n"
     ]
    }
   ],
   "source": [
    "print(data_json[\"projecao\"][\"periodoMedio\"])"
   ]
  },
  {
   "cell_type": "code",
   "execution_count": 15,
   "id": "0112ef0b",
   "metadata": {},
   "outputs": [
    {
     "data": {
      "text/plain": [
       "{'incrementoPopulacional': 21263, 'nascimento': 12000, 'obito': 45000}"
      ]
     },
     "execution_count": 15,
     "metadata": {},
     "output_type": "execute_result"
    }
   ],
   "source": [
    "data_grafico = data_json[\"projecao\"][\"periodoMedio\"]\n",
    "data_grafico"
   ]
  },
  {
   "cell_type": "code",
   "execution_count": 16,
   "id": "45fe5054",
   "metadata": {},
   "outputs": [
    {
     "name": "stdout",
     "output_type": "stream",
     "text": [
      "13/09/2022 19:47:09\n",
      "12000\n",
      "45000\n"
     ]
    }
   ],
   "source": [
    "totalNascimento = data_grafico[\"nascimento\"]\n",
    "totalObito = data_grafico[\"obito\"]\n",
    "dataAtualizacao = data_json[\"horario\"]\n",
    "print(dataAtualizacao)\n",
    "print(totalNascimento)\n",
    "print(totalObito)"
   ]
  },
  {
   "cell_type": "code",
   "execution_count": 17,
   "id": "47cd0a0d",
   "metadata": {},
   "outputs": [
    {
     "data": {
      "image/png": "[encoded data removed]",
      "text/plain": [
       "<Figure size 432x288 with 1 Axes>"
      ]
     },
     "metadata": {
      "needs_background": "light"
     },
     "output_type": "display_data"
    }
   ],
   "source": [
    "labels = [dataAtualizacao]\n",
    "dataNascimento = [totalNascimento]\n",
    "dataObito = [totalObito]\n",
    "\n",
    "x = np.arange(len(labels))  # the label locations\n",
    "width = 0.35  # the width of the bars\n",
    "\n",
    "fig, ax = plt.subplots()\n",
    "rects1 = ax.bar(x - width/2, dataNascimento, width, label='Nascimentos')\n",
    "rects2 = ax.bar(x + width/2, dataObito, width, label='Óbitos')\n",
    "\n",
    "# Add some text for labels, title and custom x-axis tick labels, etc.\n",
    "ax.set_ylabel('Quantidade')\n",
    "ax.set_title('IBGE Nascimentos vs Óbitos')\n",
    "ax.set_xticks(x, labels)\n",
    "ax.legend()\n",
    "\n",
    "ax.bar_label(rects1, padding=3)\n",
    "ax.bar_label(rects2, padding=3)\n",
    "\n",
    "fig.tight_layout()\n",
    "\n",
    "plt.show()"
   ]
  }
 ],
 "metadata": {
  "kernelspec": {
   "display_name": "Python 3 (ipykernel)",
   "language": "python",
   "name": "python3"
  },
  "language_info": {
   "codemirror_mode": {
    "name": "ipython",
    "version": 3
   },
   "file_extension": ".py",
   "mimetype": "text/x-python",
   "name": "python",
   "nbconvert_exporter": "python",
   "pygments_lexer": "ipython3",
   "version": "3.9.12"
  }
 },
 "nbformat": 4,
 "nbformat_minor": 5
}
